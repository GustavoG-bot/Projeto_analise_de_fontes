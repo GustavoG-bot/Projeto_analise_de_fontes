{
 "cells": [
  {
   "cell_type": "markdown",
   "metadata": {},
   "source": [
    "# Projeto de analise de textos e fontes desestruturadas e web - Entrega Parcial"
   ]
  },
  {
   "cell_type": "markdown",
   "metadata": {},
   "source": [
    "## Descrição do projeto"
   ]
  },
  {
   "cell_type": "markdown",
   "metadata": {},
   "source": [
    "A empresa Insper tech, afim de começar a vender telefones no seu marketplace, resolveu fazer uma pesquisa de mercado para entender **quais os principais fatores que influenciam na precificação dos celulares nas varejistas do brasil**, para isso a empresa contratou os analistas de dados:\n",
    "\n",
    "* Gustavo Guedes\n",
    "* Rodrigo Coelho\n",
    "* Wilgner Lopes"
   ]
  },
  {
   "cell_type": "markdown",
   "metadata": {},
   "source": [
    "O trabalho então definido pelos analista de dados é composto das seguintes etapas:\n",
    "\n",
    "* Extração dos dados (Nesse arquivo)\n",
    "* Limpeza dos dados  (Nesse arquivo)\n",
    "* Analise exploratoria\n",
    "* Possivel previsão"
   ]
  },
  {
   "cell_type": "markdown",
   "metadata": {},
   "source": [
    "Para uma melhor organização de todo o trabalho, foi definido uma estrutura via GitHub que é composto pela seguinte estrutura de projeto:\n",
    "\n",
    "* **Input:** Pasta destinada a armazenar a base de dados com e sem limpeza que for criada durante o processo de estração\n",
    "\n",
    "* **Src:** Pasta destinada a armazenar os scripts de limpeza (Transform), scripts de Exploração (EDA) e os scripts de scraping\n",
    "\n",
    "* **Model:** Pasta destinada a armazenas os futuros scripts de modelagem para a previsão\n",
    "\n",
    "* **Notebook:** Pasta destinada a armazenar os notebooks entregaveis demonstrando e explicando os resultados"
   ]
  },
  {
   "cell_type": "markdown",
   "metadata": {},
   "source": [
    "## Iniciando o projeto"
   ]
  },
  {
   "cell_type": "code",
   "execution_count": null,
   "metadata": {},
   "outputs": [],
   "source": [
    "### Etapa de importação e busca dos scripts\n"
   ]
  },
  {
   "cell_type": "markdown",
   "metadata": {},
   "source": [
    "### Executando o scraping"
   ]
  },
  {
   "cell_type": "code",
   "execution_count": null,
   "metadata": {},
   "outputs": [],
   "source": []
  },
  {
   "cell_type": "markdown",
   "metadata": {},
   "source": [
    "### Visualizando o resultado"
   ]
  },
  {
   "cell_type": "code",
   "execution_count": null,
   "metadata": {},
   "outputs": [],
   "source": []
  },
  {
   "cell_type": "markdown",
   "metadata": {},
   "source": [
    "### Salvando o arquivo csv"
   ]
  },
  {
   "cell_type": "code",
   "execution_count": null,
   "metadata": {},
   "outputs": [],
   "source": []
  }
 ],
 "metadata": {
  "kernelspec": {
   "display_name": "Python 3",
   "language": "python",
   "name": "python3"
  },
  "language_info": {
   "codemirror_mode": {
    "name": "ipython",
    "version": 3
   },
   "file_extension": ".py",
   "mimetype": "text/x-python",
   "name": "python",
   "nbconvert_exporter": "python",
   "pygments_lexer": "ipython3",
   "version": "3.7.9"
  }
 },
 "nbformat": 4,
 "nbformat_minor": 4
}
