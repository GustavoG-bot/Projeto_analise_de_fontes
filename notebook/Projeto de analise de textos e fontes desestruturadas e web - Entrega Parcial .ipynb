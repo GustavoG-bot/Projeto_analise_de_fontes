{
 "cells": [
  {
   "cell_type": "markdown",
   "metadata": {},
   "source": [
    "# Projeto de analise de textos e fontes desestruturadas e web - Entrega Parcial"
   ]
  },
  {
   "cell_type": "markdown",
   "metadata": {},
   "source": [
    "## Descrição do projeto"
   ]
  },
  {
   "cell_type": "markdown",
   "metadata": {},
   "source": [
    "A empresa Insper tech, afim de começar a vender telefones no seu marketplace, resolveu fazer uma pesquisa de mercado para entender **quais os principais fatores que influenciam na precificação dos celulares nas varejistas do brasil**, para isso a empresa contratou os analistas de dados:\n",
    "\n",
    "* Gustavo Guedes\n",
    "* Rodrigo Coelho\n",
    "* Wilgner Lopes"
   ]
  },
  {
   "cell_type": "markdown",
   "metadata": {},
   "source": [
    "O trabalho então definido pelos analista de dados é composto das seguintes etapas:\n",
    "\n",
    "* Extração dos dados (Nesse arquivo)\n",
    "* Limpeza dos dados  (Nesse arquivo)\n",
    "* Analise exploratoria\n",
    "* Possivel previsão"
   ]
  },
  {
   "cell_type": "markdown",
   "metadata": {},
   "source": [
    "Para uma melhor organização de todo o trabalho, foi definido uma estrutura via GitHub que é composto pela seguinte estrutura de projeto:\n",
    "\n",
    "* **Input:** Pasta destinada a armazenar a base de dados com e sem limpeza que for criada durante o processo de estração\n",
    "\n",
    "* **Src:** Pasta destinada a armazenar os scripts de limpeza (Transform), scripts de Exploração (EDA) e os scripts de scraping\n",
    "\n",
    "* **Model:** Pasta destinada a armazenas os futuros scripts de modelagem para a previsão\n",
    "\n",
    "* **Notebook:** Pasta destinada a armazenar os notebooks entregaveis demonstrando e explicando os resultados"
   ]
  },
  {
   "cell_type": "markdown",
   "metadata": {},
   "source": [
    "## Iniciando o projeto"
   ]
  },
  {
   "cell_type": "code",
   "execution_count": 4,
   "metadata": {},
   "outputs": [
    {
     "ename": "FileNotFoundError",
     "evalue": "[WinError 3] O sistema não pode encontrar o caminho especificado: 'C:\\\\Users\\\\wilgn\\\\Desktop\\\\Faculdade\\\\3° Semestre\\\\Analise de fontes e textos desestruturados na web\\\\Projeto\\\\Projeto_analise_de_fontes\\\\src\\\\Scraping'",
     "output_type": "error",
     "traceback": [
      "\u001b[1;31m---------------------------------------------------------------------------\u001b[0m",
      "\u001b[1;31mFileNotFoundError\u001b[0m                         Traceback (most recent call last)",
      "\u001b[1;32m<ipython-input-4-1af346a95c82>\u001b[0m in \u001b[0;36m<module>\u001b[1;34m\u001b[0m\n\u001b[0;32m      1\u001b[0m \u001b[1;31m### Etapa de importação e busca dos scripts\u001b[0m\u001b[1;33m\u001b[0m\u001b[1;33m\u001b[0m\u001b[1;33m\u001b[0m\u001b[0m\n\u001b[0;32m      2\u001b[0m \u001b[1;32mimport\u001b[0m \u001b[0mos\u001b[0m\u001b[1;33m\u001b[0m\u001b[1;33m\u001b[0m\u001b[0m\n\u001b[1;32m----> 3\u001b[1;33m \u001b[0mos\u001b[0m\u001b[1;33m.\u001b[0m\u001b[0mchdir\u001b[0m\u001b[1;33m(\u001b[0m\u001b[0mos\u001b[0m\u001b[1;33m.\u001b[0m\u001b[0mpath\u001b[0m\u001b[1;33m.\u001b[0m\u001b[0mdirname\u001b[0m\u001b[1;33m(\u001b[0m\u001b[1;34mr'C:\\Users\\wilgn\\Desktop\\Faculdade\\3° Semestre\\Analise de fontes e textos desestruturados na web\\Projeto\\Projeto_analise_de_fontes\\src\\Scraping\\\\'\u001b[0m\u001b[1;33m)\u001b[0m\u001b[1;33m)\u001b[0m\u001b[1;33m\u001b[0m\u001b[1;33m\u001b[0m\u001b[0m\n\u001b[0m\u001b[0;32m      4\u001b[0m \u001b[1;32mfrom\u001b[0m \u001b[0mscraping_varejo\u001b[0m \u001b[1;32mimport\u001b[0m \u001b[1;33m*\u001b[0m\u001b[1;33m\u001b[0m\u001b[1;33m\u001b[0m\u001b[0m\n",
      "\u001b[1;31mFileNotFoundError\u001b[0m: [WinError 3] O sistema não pode encontrar o caminho especificado: 'C:\\\\Users\\\\wilgn\\\\Desktop\\\\Faculdade\\\\3° Semestre\\\\Analise de fontes e textos desestruturados na web\\\\Projeto\\\\Projeto_analise_de_fontes\\\\src\\\\Scraping'"
     ]
    }
   ],
   "source": [
    "### Etapa de importação e busca dos scripts\n",
    "import os\n",
    "os.chdir(os.path.dirname(r'C:\\Users\\wilgn\\Desktop\\Faculdade\\3° Semestre\\Analise de fontes e textos desestruturados na web\\Projeto\\Projeto_analise_de_fontes\\src\\Scraping\\\\'))\n",
    "from scraping_varejo import *"
   ]
  },
  {
   "cell_type": "markdown",
   "metadata": {},
   "source": [
    "### Executando o scraping"
   ]
  },
  {
   "cell_type": "code",
   "execution_count": 3,
   "metadata": {},
   "outputs": [
    {
     "ename": "NameError",
     "evalue": "name 'Scraping' is not defined",
     "output_type": "error",
     "traceback": [
      "\u001b[1;31m---------------------------------------------------------------------------\u001b[0m",
      "\u001b[1;31mNameError\u001b[0m                                 Traceback (most recent call last)",
      "\u001b[1;32m<ipython-input-3-872eb5c542b1>\u001b[0m in \u001b[0;36m<module>\u001b[1;34m\u001b[0m\n\u001b[0;32m      1\u001b[0m \u001b[0mPATH\u001b[0m \u001b[1;33m=\u001b[0m \u001b[1;34m'C:\\Program Files (x86)\\chromedriver.exe'\u001b[0m\u001b[1;33m\u001b[0m\u001b[1;33m\u001b[0m\u001b[0m\n\u001b[0;32m      2\u001b[0m \u001b[0murl\u001b[0m \u001b[1;33m=\u001b[0m \u001b[1;34m'https://www.extra.com.br/celular/b'\u001b[0m\u001b[1;33m\u001b[0m\u001b[1;33m\u001b[0m\u001b[0m\n\u001b[1;32m----> 3\u001b[1;33m \u001b[0mscraping_extra\u001b[0m \u001b[1;33m=\u001b[0m \u001b[0mScraping\u001b[0m\u001b[1;33m(\u001b[0m\u001b[0murl\u001b[0m\u001b[1;33m,\u001b[0m \u001b[0mPATH\u001b[0m\u001b[1;33m)\u001b[0m\u001b[1;33m\u001b[0m\u001b[1;33m\u001b[0m\u001b[0m\n\u001b[0m\u001b[0;32m      4\u001b[0m \u001b[0mscraping_extra\u001b[0m\u001b[1;33m.\u001b[0m\u001b[0mfaz_request\u001b[0m\u001b[1;33m(\u001b[0m\u001b[1;33m)\u001b[0m\u001b[1;33m\u001b[0m\u001b[1;33m\u001b[0m\u001b[0m\n\u001b[0;32m      5\u001b[0m \u001b[0mscraping_extra\u001b[0m\u001b[1;33m.\u001b[0m\u001b[0mrecebe_html\u001b[0m\u001b[1;33m(\u001b[0m\u001b[1;33m)\u001b[0m\u001b[1;33m\u001b[0m\u001b[1;33m\u001b[0m\u001b[0m\n",
      "\u001b[1;31mNameError\u001b[0m: name 'Scraping' is not defined"
     ]
    }
   ],
   "source": [
    "PATH = 'C:\\Program Files (x86)\\chromedriver.exe'\n",
    "url = 'https://www.extra.com.br/celular/b'\n",
    "scraping_extra = Scraping(url, PATH)\n",
    "scraping_extra.faz_request()\n",
    "scraping_extra.recebe_html()\n",
    "scraping_extra.cria_dataframe()"
   ]
  },
  {
   "cell_type": "markdown",
   "metadata": {},
   "source": [
    "### Visualizando o resultado"
   ]
  },
  {
   "cell_type": "code",
   "execution_count": 5,
   "metadata": {},
   "outputs": [
    {
     "data": {
      "text/html": [
       "<div>\n",
       "<style scoped>\n",
       "    .dataframe tbody tr th:only-of-type {\n",
       "        vertical-align: middle;\n",
       "    }\n",
       "\n",
       "    .dataframe tbody tr th {\n",
       "        vertical-align: top;\n",
       "    }\n",
       "\n",
       "    .dataframe thead th {\n",
       "        text-align: right;\n",
       "    }\n",
       "</style>\n",
       "<table border=\"1\" class=\"dataframe\">\n",
       "  <thead>\n",
       "    <tr style=\"text-align: right;\">\n",
       "      <th></th>\n",
       "      <th>Descricao</th>\n",
       "      <th>Preco</th>\n",
       "    </tr>\n",
       "  </thead>\n",
       "  <tbody>\n",
       "    <tr>\n",
       "      <th>0</th>\n",
       "      <td>Smartphone Motorola Moto e6s Azul Navy 64GB, T...</td>\n",
       "      <td>R$ 887,78</td>\n",
       "    </tr>\n",
       "    <tr>\n",
       "      <th>1</th>\n",
       "      <td>Smartphone Samsung Galaxy A32 Branco 128GB, 4G...</td>\n",
       "      <td>R$ 1.799,00</td>\n",
       "    </tr>\n",
       "    <tr>\n",
       "      <th>2</th>\n",
       "      <td>Smartphone Samsung Galaxy A01 Preto 32GB, Tela...</td>\n",
       "      <td>R$ 699,00</td>\n",
       "    </tr>\n",
       "    <tr>\n",
       "      <th>3</th>\n",
       "      <td>Smartphone Samsung Galaxy A11 Preto 64GB, Câme...</td>\n",
       "      <td>R$ 1.199,00</td>\n",
       "    </tr>\n",
       "    <tr>\n",
       "      <th>4</th>\n",
       "      <td>Smartphone Samsung Galaxy A01 Core Preto 32GB,...</td>\n",
       "      <td>R$ 749,00</td>\n",
       "    </tr>\n",
       "  </tbody>\n",
       "</table>\n",
       "</div>"
      ],
      "text/plain": [
       "                                           Descricao        Preco\n",
       "0  Smartphone Motorola Moto e6s Azul Navy 64GB, T...    R$ 887,78\n",
       "1  Smartphone Samsung Galaxy A32 Branco 128GB, 4G...  R$ 1.799,00\n",
       "2  Smartphone Samsung Galaxy A01 Preto 32GB, Tela...    R$ 699,00\n",
       "3  Smartphone Samsung Galaxy A11 Preto 64GB, Câme...  R$ 1.199,00\n",
       "4  Smartphone Samsung Galaxy A01 Core Preto 32GB,...    R$ 749,00"
      ]
     },
     "execution_count": 5,
     "metadata": {},
     "output_type": "execute_result"
    }
   ],
   "source": [
    "scraping_extra.df.head()"
   ]
  },
  {
   "cell_type": "markdown",
   "metadata": {},
   "source": [
    "### Salvando o arquivo csv"
   ]
  },
  {
   "cell_type": "code",
   "execution_count": 6,
   "metadata": {},
   "outputs": [],
   "source": [
    "scraping_extra.salva_dataframe()"
   ]
  },
  {
   "cell_type": "markdown",
   "metadata": {},
   "source": [
    "### Importando o arquivo de limpeza do projeto\n"
   ]
  },
  {
   "cell_type": "code",
   "execution_count": 2,
   "metadata": {},
   "outputs": [],
   "source": [
    "os.chdir(os.path.dirname(r'C:\\Users\\gusta\\OneDrive\\Área de Trabalho\\Insper\\3° SEMESTRE\\ANÁLISE DE FONTES DESESTRUTURADAS E WEB\\Projeto\\Projeto_analise_de_fontes\\src\\transform\\limpeza.py'))"
   ]
  },
  {
   "cell_type": "markdown",
   "metadata": {},
   "source": [
    "### Executando limpeza"
   ]
  },
  {
   "cell_type": "code",
   "execution_count": null,
   "metadata": {},
   "outputs": [],
   "source": [
    "scraping_extra.df.Descricao = scraping_extra.df.Descricao.apply(cleanup)\n",
    "scraping_extra.df.Preco = scraping_extra.df.Preco.apply(corrige_num)"
   ]
  },
  {
   "cell_type": "markdown",
   "metadata": {},
   "source": [
    "### Visualizando o resultado final apos a limpeza"
   ]
  },
  {
   "cell_type": "code",
   "execution_count": null,
   "metadata": {},
   "outputs": [],
   "source": [
    "scraping_extra.df.head()"
   ]
  }
 ],
 "metadata": {
  "kernelspec": {
   "display_name": "Python 3",
   "language": "python",
   "name": "python3"
  },
  "language_info": {
   "codemirror_mode": {
    "name": "ipython",
    "version": 3
   },
   "file_extension": ".py",
   "mimetype": "text/x-python",
   "name": "python",
   "nbconvert_exporter": "python",
   "pygments_lexer": "ipython3",
   "version": "3.7.4"
  }
 },
 "nbformat": 4,
 "nbformat_minor": 4
}
