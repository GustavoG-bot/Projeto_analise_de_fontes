{
 "cells": [
  {
   "cell_type": "markdown",
   "metadata": {},
   "source": [
    "# > Índice"
   ]
  },
  {
   "cell_type": "markdown",
   "metadata": {},
   "source": [
    "- [Introdução](#intro)\n",
    "- [Problema](#problema)\n",
    "- [Análise](#analise)\n",
    "- [Conclusão](#conclusao)"
   ]
  },
  {
   "cell_type": "markdown",
   "metadata": {},
   "source": [
    "<div id=\"intro\"></div>\n",
    "\n",
    "# > Introdução "
   ]
  },
  {
   "cell_type": "markdown",
   "metadata": {},
   "source": [
    "O intuito do projeto é realizar um Web Scraping de dados e posteriormente uma análise dessas informações e tirar conclusões sobre o assunto."
   ]
  },
  {
   "cell_type": "markdown",
   "metadata": {},
   "source": [
    "<div id=\"problema\"></div>\n",
    "\n",
    "# > Problema"
   ]
  },
  {
   "cell_type": "markdown",
   "metadata": {},
   "source": [
    "A empresa Insper tech, afim de começar a vender telefones no seu marketplace, resolveu fazer uma pesquisa de mercado para entender **quais os principais fatores que influenciam na precificação dos celulares nas varejistas do brasil**, para isso a empresa contratou os analistas de dados:\n",
    "\n",
    "* Gustavo Guedes\n",
    "* Rodrigo Coelho\n",
    "* Wilgner Lopes"
   ]
  },
  {
   "cell_type": "markdown",
   "metadata": {},
   "source": [
    "Nesse relatório será apresentado a análise dos dados, visto que tanto a limpeza e o web scraping já foram rodados. "
   ]
  },
  {
   "cell_type": "markdown",
   "metadata": {},
   "source": [
    "<div id=\"analise\"></div>\n",
    "\n",
    "# > Análise "
   ]
  },
  {
   "cell_type": "code",
   "execution_count": null,
   "metadata": {},
   "outputs": [],
   "source": []
  },
  {
   "cell_type": "markdown",
   "metadata": {},
   "source": [
    "<div id=\"conclusao\"></div>\n",
    "\n",
    "# > Conclusão"
   ]
  },
  {
   "cell_type": "markdown",
   "metadata": {},
   "source": [
    "As análises exploratórias nos mostraram que.. (gráficos)"
   ]
  },
  {
   "cell_type": "code",
   "execution_count": null,
   "metadata": {},
   "outputs": [],
   "source": []
  }
 ],
 "metadata": {
  "kernelspec": {
   "display_name": "Python 3",
   "language": "python",
   "name": "python3"
  },
  "language_info": {
   "codemirror_mode": {
    "name": "ipython",
    "version": 3
   },
   "file_extension": ".py",
   "mimetype": "text/x-python",
   "name": "python",
   "nbconvert_exporter": "python",
   "pygments_lexer": "ipython3",
   "version": "3.7.4"
  }
 },
 "nbformat": 4,
 "nbformat_minor": 4
}
